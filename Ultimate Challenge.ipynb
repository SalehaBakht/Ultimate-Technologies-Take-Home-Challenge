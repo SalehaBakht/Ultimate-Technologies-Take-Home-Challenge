{
 "cells": [
  {
   "cell_type": "markdown",
   "metadata": {},
   "source": [
    "## Part 1 - Exploratory Data Analysis\n",
    "\n",
    "This notebook is my response to the take-home challenge provided by Ultimate. This first part is exploring the login times of users in a particular, unnamed geographic region. I will begin by loading the data nad superficially inspecting it to get a sense of the data I have to use. "
   ]
  },
  {
   "cell_type": "code",
   "execution_count": 1,
   "metadata": {},
   "outputs": [],
   "source": [
    "import pandas as pd\n",
    "import numpy as np\n",
    "import datetime\n",
    "import matplotlib.pyplot as plt\n",
    "%matplotlib inline\n",
    "import seaborn as sns\n",
    "import json"
   ]
  },
  {
   "cell_type": "code",
   "execution_count": 2,
   "metadata": {},
   "outputs": [
    {
     "data": {
      "text/html": [
       "<div>\n",
       "<style scoped>\n",
       "    .dataframe tbody tr th:only-of-type {\n",
       "        vertical-align: middle;\n",
       "    }\n",
       "\n",
       "    .dataframe tbody tr th {\n",
       "        vertical-align: top;\n",
       "    }\n",
       "\n",
       "    .dataframe thead th {\n",
       "        text-align: right;\n",
       "    }\n",
       "</style>\n",
       "<table border=\"1\" class=\"dataframe\">\n",
       "  <thead>\n",
       "    <tr style=\"text-align: right;\">\n",
       "      <th></th>\n",
       "      <th>login_time</th>\n",
       "    </tr>\n",
       "  </thead>\n",
       "  <tbody>\n",
       "    <tr>\n",
       "      <th>0</th>\n",
       "      <td>1970-01-01 20:13:18</td>\n",
       "    </tr>\n",
       "    <tr>\n",
       "      <th>1</th>\n",
       "      <td>1970-01-01 20:16:10</td>\n",
       "    </tr>\n",
       "    <tr>\n",
       "      <th>2</th>\n",
       "      <td>1970-01-01 20:16:37</td>\n",
       "    </tr>\n",
       "    <tr>\n",
       "      <th>3</th>\n",
       "      <td>1970-01-01 20:16:36</td>\n",
       "    </tr>\n",
       "    <tr>\n",
       "      <th>4</th>\n",
       "      <td>1970-01-01 20:26:21</td>\n",
       "    </tr>\n",
       "  </tbody>\n",
       "</table>\n",
       "</div>"
      ],
      "text/plain": [
       "           login_time\n",
       "0 1970-01-01 20:13:18\n",
       "1 1970-01-01 20:16:10\n",
       "2 1970-01-01 20:16:37\n",
       "3 1970-01-01 20:16:36\n",
       "4 1970-01-01 20:26:21"
      ]
     },
     "execution_count": 2,
     "metadata": {},
     "output_type": "execute_result"
    }
   ],
   "source": [
    "login_df = pd.read_json('logins.json')\n",
    "login_df.head()"
   ]
  },
  {
   "cell_type": "code",
   "execution_count": 3,
   "metadata": {},
   "outputs": [
    {
     "data": {
      "text/html": [
       "<div>\n",
       "<style scoped>\n",
       "    .dataframe tbody tr th:only-of-type {\n",
       "        vertical-align: middle;\n",
       "    }\n",
       "\n",
       "    .dataframe tbody tr th {\n",
       "        vertical-align: top;\n",
       "    }\n",
       "\n",
       "    .dataframe thead th {\n",
       "        text-align: right;\n",
       "    }\n",
       "</style>\n",
       "<table border=\"1\" class=\"dataframe\">\n",
       "  <thead>\n",
       "    <tr style=\"text-align: right;\">\n",
       "      <th></th>\n",
       "      <th>login_time</th>\n",
       "    </tr>\n",
       "  </thead>\n",
       "  <tbody>\n",
       "    <tr>\n",
       "      <th>93137</th>\n",
       "      <td>1970-04-13 18:50:19</td>\n",
       "    </tr>\n",
       "    <tr>\n",
       "      <th>93138</th>\n",
       "      <td>1970-04-13 18:43:56</td>\n",
       "    </tr>\n",
       "    <tr>\n",
       "      <th>93139</th>\n",
       "      <td>1970-04-13 18:54:02</td>\n",
       "    </tr>\n",
       "    <tr>\n",
       "      <th>93140</th>\n",
       "      <td>1970-04-13 18:57:38</td>\n",
       "    </tr>\n",
       "    <tr>\n",
       "      <th>93141</th>\n",
       "      <td>1970-04-13 18:54:23</td>\n",
       "    </tr>\n",
       "  </tbody>\n",
       "</table>\n",
       "</div>"
      ],
      "text/plain": [
       "               login_time\n",
       "93137 1970-04-13 18:50:19\n",
       "93138 1970-04-13 18:43:56\n",
       "93139 1970-04-13 18:54:02\n",
       "93140 1970-04-13 18:57:38\n",
       "93141 1970-04-13 18:54:23"
      ]
     },
     "execution_count": 3,
     "metadata": {},
     "output_type": "execute_result"
    }
   ],
   "source": [
    "login_df.tail()"
   ]
  },
  {
   "cell_type": "code",
   "execution_count": 4,
   "metadata": {},
   "outputs": [
    {
     "data": {
      "text/html": [
       "<div>\n",
       "<style scoped>\n",
       "    .dataframe tbody tr th:only-of-type {\n",
       "        vertical-align: middle;\n",
       "    }\n",
       "\n",
       "    .dataframe tbody tr th {\n",
       "        vertical-align: top;\n",
       "    }\n",
       "\n",
       "    .dataframe thead th {\n",
       "        text-align: right;\n",
       "    }\n",
       "</style>\n",
       "<table border=\"1\" class=\"dataframe\">\n",
       "  <thead>\n",
       "    <tr style=\"text-align: right;\">\n",
       "      <th></th>\n",
       "      <th>login_time</th>\n",
       "    </tr>\n",
       "  </thead>\n",
       "  <tbody>\n",
       "    <tr>\n",
       "      <th>count</th>\n",
       "      <td>93142</td>\n",
       "    </tr>\n",
       "    <tr>\n",
       "      <th>unique</th>\n",
       "      <td>92265</td>\n",
       "    </tr>\n",
       "    <tr>\n",
       "      <th>top</th>\n",
       "      <td>1970-02-12 11:16:53</td>\n",
       "    </tr>\n",
       "    <tr>\n",
       "      <th>freq</th>\n",
       "      <td>3</td>\n",
       "    </tr>\n",
       "    <tr>\n",
       "      <th>first</th>\n",
       "      <td>1970-01-01 20:12:16</td>\n",
       "    </tr>\n",
       "    <tr>\n",
       "      <th>last</th>\n",
       "      <td>1970-04-13 18:57:38</td>\n",
       "    </tr>\n",
       "  </tbody>\n",
       "</table>\n",
       "</div>"
      ],
      "text/plain": [
       "                 login_time\n",
       "count                 93142\n",
       "unique                92265\n",
       "top     1970-02-12 11:16:53\n",
       "freq                      3\n",
       "first   1970-01-01 20:12:16\n",
       "last    1970-04-13 18:57:38"
      ]
     },
     "execution_count": 4,
     "metadata": {},
     "output_type": "execute_result"
    }
   ],
   "source": [
    "login_df.describe()"
   ]
  },
  {
   "cell_type": "code",
   "execution_count": 5,
   "metadata": {},
   "outputs": [
    {
     "name": "stdout",
     "output_type": "stream",
     "text": [
      "<class 'pandas.core.frame.DataFrame'>\n",
      "RangeIndex: 93142 entries, 0 to 93141\n",
      "Data columns (total 1 columns):\n",
      "login_time    93142 non-null datetime64[ns]\n",
      "dtypes: datetime64[ns](1)\n",
      "memory usage: 727.8 KB\n"
     ]
    }
   ],
   "source": [
    "login_df.info()"
   ]
  },
  {
   "cell_type": "markdown",
   "metadata": {},
   "source": [
    "I have a little more than 93,000 values over a 3.5 month period for this exploration. I have been asked to aggregate the data in 15 minute intervals and try and discover some underlying patterns of the demand. I have also been asked to include details of the daily cycles.\n",
    "\n",
    "First to break the data into 15 minute intervals."
   ]
  },
  {
   "cell_type": "code",
   "execution_count": 6,
   "metadata": {},
   "outputs": [
    {
     "data": {
      "text/html": [
       "<div>\n",
       "<style scoped>\n",
       "    .dataframe tbody tr th:only-of-type {\n",
       "        vertical-align: middle;\n",
       "    }\n",
       "\n",
       "    .dataframe tbody tr th {\n",
       "        vertical-align: top;\n",
       "    }\n",
       "\n",
       "    .dataframe thead th {\n",
       "        text-align: right;\n",
       "    }\n",
       "</style>\n",
       "<table border=\"1\" class=\"dataframe\">\n",
       "  <thead>\n",
       "    <tr style=\"text-align: right;\">\n",
       "      <th></th>\n",
       "      <th>Counts</th>\n",
       "    </tr>\n",
       "    <tr>\n",
       "      <th>login_time</th>\n",
       "      <th></th>\n",
       "    </tr>\n",
       "  </thead>\n",
       "  <tbody>\n",
       "    <tr>\n",
       "      <th>1970-01-01 20:00:00</th>\n",
       "      <td>2</td>\n",
       "    </tr>\n",
       "    <tr>\n",
       "      <th>1970-01-01 20:15:00</th>\n",
       "      <td>6</td>\n",
       "    </tr>\n",
       "    <tr>\n",
       "      <th>1970-01-01 20:30:00</th>\n",
       "      <td>9</td>\n",
       "    </tr>\n",
       "    <tr>\n",
       "      <th>1970-01-01 20:45:00</th>\n",
       "      <td>7</td>\n",
       "    </tr>\n",
       "    <tr>\n",
       "      <th>1970-01-01 21:00:00</th>\n",
       "      <td>1</td>\n",
       "    </tr>\n",
       "  </tbody>\n",
       "</table>\n",
       "</div>"
      ],
      "text/plain": [
       "                     Counts\n",
       "login_time                 \n",
       "1970-01-01 20:00:00       2\n",
       "1970-01-01 20:15:00       6\n",
       "1970-01-01 20:30:00       9\n",
       "1970-01-01 20:45:00       7\n",
       "1970-01-01 21:00:00       1"
      ]
     },
     "execution_count": 6,
     "metadata": {},
     "output_type": "execute_result"
    }
   ],
   "source": [
    "login_df.set_index('login_time', inplace=True)\n",
    "login_df['Counts'] = 1\n",
    "login_df = (1*login_df.resample('15T').sum()).fillna(0)\n",
    "login_df.head()"
   ]
  },
  {
   "cell_type": "code",
   "execution_count": 7,
   "metadata": {},
   "outputs": [
    {
     "data": {
      "text/plain": [
       "Text(0.5,1,'1970-01-01 to 1970-04-13')"
      ]
     },
     "execution_count": 7,
     "metadata": {},
     "output_type": "execute_result"
    },
    {
     "data": {
      "image/png": "[encoded data removed]",
      "text/plain": [
       "<matplotlib.figure.Figure at 0x1538493be80>"
      ]
     },
     "metadata": {},
     "output_type": "display_data"
    }
   ],
   "source": [
    "plt.plot(login_df)\n",
    "plt.xticks(rotation=45)\n",
    "plt.xlabel('15-minute intervals')\n",
    "plt.ylabel('Counts on logins')\n",
    "plt.title('1970-01-01 to 1970-04-13')"
   ]
  },
  {
   "cell_type": "markdown",
   "metadata": {},
   "source": [
    "The graph above shows the login activity of all four months. It is a difficult to distinguish between the months on basis of the xticks alone .The graph below shows the same information over the same period but with different colors to help see the differences between the months."
   ]
  },
  {
   "cell_type": "code",
   "execution_count": 8,
   "metadata": {},
   "outputs": [
    {
     "data": {
      "text/plain": [
       "Text(0,0.5,'Counts on logins')"
      ]
     },
     "execution_count": 8,
     "metadata": {},
     "output_type": "execute_result"
    },
    {
     "data": {
      "image/png": "[encoded data removed]",
      "text/plain": [
       "<matplotlib.figure.Figure at 0x15384967c18>"
      ]
     },
     "metadata": {},
     "output_type": "display_data"
    }
   ],
   "source": [
    "plt.title('1970-01-01 to 1970-04-13')\n",
    "plt.plot(login_df['1970-01-01': '1970-01-31'], 'r')\n",
    "plt.plot(login_df['1970-02-01': '1970-02-28'], 'b')\n",
    "plt.plot(login_df['1970-03-01': '1970-03-31'], 'g')\n",
    "plt.plot(login_df['1970-04-01': '1970-04-13'], 'y')\n",
    "plt.xticks(rotation=45)\n",
    "plt.xlabel('15-minute intervals')\n",
    "plt.ylabel('Counts on logins')"
   ]
  },
  {
   "cell_type": "markdown",
   "metadata": {},
   "source": [
    "We can see that the yellow portion for the fourth month, April, is shorter than the other portions. That is because data for only 17 days of April were provided.\n",
    "\n",
    "We can see a spike in engagement in the very beginning of March. This could be an outlier or perhaps justified by a spike of new employees getting familiar with the Ultimate environment. I can also see a slight increase in engagement over the months. Either the Ultimate family has grown in number or more services are being provided through their online systems, encouraging employees to be online more and more often.\n",
    "\n",
    "Now that we've seen the monthly correlation, I will break the next visuals into describing the weekly and daily activity. "
   ]
  },
  {
   "cell_type": "code",
   "execution_count": 9,
   "metadata": {},
   "outputs": [],
   "source": [
    "login_df['weekday'] = login_df.index.weekday\n",
    "login_df['hour'] = login_df.index.hour"
   ]
  },
  {
   "cell_type": "code",
   "execution_count": 10,
   "metadata": {},
   "outputs": [
    {
     "data": {
      "text/plain": [
       "Text(0.5,1,'Average of Logins for Different Weekdays')"
      ]
     },
     "execution_count": 10,
     "metadata": {},
     "output_type": "execute_result"
    },
    {
     "data": {
      "image/png": "[encoded data removed]",
      "text/plain": [
       "<matplotlib.figure.Figure at 0x15384bdf940>"
      ]
     },
     "metadata": {},
     "output_type": "display_data"
    }
   ],
   "source": [
    "wkday_avg = login_df.groupby('weekday').mean()\n",
    "wkday_avg.index = ['Mon', 'Tues', 'Wed','Thurs','Fri', 'Sat', 'Sun']\n",
    "sns.barplot(x='index', y='Counts', data=wkday_avg.reset_index(), palette=\"Set2\")\n",
    "plt.ylabel('Total Averages')\n",
    "plt.xlabel('Weekday')\n",
    "plt.title('Average of Logins for Different Weekdays')"
   ]
  },
  {
   "cell_type": "markdown",
   "metadata": {},
   "source": [
    "The user engagement increases towards the end of the week and spikes on Saturday. It is interesting because these days are nomally associated with weekends and entertainment. Ultimate Technologies Inc. did not say in its description of the take-home challenge that the logins were from their own company's engagement. It is possible that the data provided is from an online game or other entertainment site, possibly Netflix or Kindle. Ultimate Technologies itself is not an entertainment company."
   ]
  },
  {
   "cell_type": "code",
   "execution_count": 11,
   "metadata": {},
   "outputs": [
    {
     "data": {
      "text/plain": [
       "Text(0.5,1,'Average of Logins for Different Hours in A Daily Cycle')"
      ]
     },
     "execution_count": 11,
     "metadata": {},
     "output_type": "execute_result"
    },
    {
     "data": {
      "image/png": "[encoded data removed]",
      "text/plain": [
       "<matplotlib.figure.Figure at 0x15384a90e48>"
      ]
     },
     "metadata": {},
     "output_type": "display_data"
    }
   ],
   "source": [
    "hour_count = login_df.drop('weekday', axis=1).groupby('hour').mean()\n",
    "sns.barplot(x='hour', y='Counts', data=hour_count.reset_index(), palette=\"Set2\")\n",
    "plt.ylabel('Total Counts')\n",
    "plt.xlabel('Hour')\n",
    "plt.title('Average of Logins for Different Hours in A Daily Cycle')"
   ]
  },
  {
   "cell_type": "markdown",
   "metadata": {},
   "source": [
    "The two or three highest times of engagement are 12 o'clock noon and 12 o'clock midnight with the highest engagements happening right before or right after midnight. The down times in engagement are around 7:30 am and 5:00 pm, times that are regularly associated with rush hour as people go to and from their school or work and home.\n",
    "\n",
    "The hourly engagement patterns emphasize that this data probably belongs to an entertainment service and most of their user engagement happens after work. The lowest period of engagement is in the morning rush hour. The high engagement spike during the day hours coincides with the workday lunchtime. It is possible that users take advantage of their lunch hour by logging into this entertainment platform.\n",
    "\n",
    "This concludes my assessment of Part 1."
   ]
  },
  {
   "cell_type": "markdown",
   "metadata": {},
   "source": [
    "## Part 2 - Experiment and Metrics Design"
   ]
  },
  {
   "cell_type": "markdown",
   "metadata": {},
   "source": [
    "*The neighboring cities of Gotham and Metropolis have complementary circadian rhythms: on weekdays, Ultimate Gotham is most active at night, and Ultimate Metropolis is most active during the day. On weekends, there is reasonable activity in both cities. However, a toll bridge, with a two­way toll, between the two cities causes driver partners to tend to be exclusive to each city. The Ultimate managers of city operations for the two cities have proposed an experiment to encourage driver partners to be available in both cities, by reimbursing all toll costs.*\n",
    "\n",
    "*1.What would you choose as the key measure of success of this experiment in encouraging driver partners to serve both cities, and why would you choose this metric?*\n",
    "\n",
    "The key measure of success in this experiment would be profit. The first two times a driver partner took advantage of the reimbursement policy would be to test it out, to decide for themselves through experience if the trip was made worth the cost and time because of a toll reimbursement. Does consistent toll reimbursement encourage driver partners to expand their geographic range of service? Some driver partners may decide the reimbursement is not worth it, in which case, the overall indicator that the experiment was a general success would be found in profit increase. If the profit does not change, then Ultimate would be able to see that toll reimbursements are not enough to encourage driver partners to cross cities.\n",
    "\n",
    "*2.Describe a practical experiment you would design to compare the effectiveness of the proposed change in relation to the key measure of success. Please provide details on:*\n",
    " - *how you will implement the experiment.*\n",
    " - *what statistical test(s) you will conduct to verify the significance of the observation.*\n",
    " - *how you would interpret the results and provide recommendations to the city operations team along with any caveats.*\n",
    "\n",
    "Offer a promotion to half of the driver partners from each city. Since the two cities have complementary circadian phythms, this would get the most complete result. Be sure the mix of recipients is a mix of new drivers and old, drivers that have activity spokes on the weekends and on the weekdays, drivers that take an assorted number of people on trips.\n",
    "\n",
    "You will have four sets of consequent data. Gotham drivers who did or did not recieve the promotion and Metropolis drivers who did or did not recieve the promotion. You can run a hypothesis test within each city to see if the promotions worked against those who were not offered promotions. Use the p-value to validate. You can also run a hypothesis between the two cities to see if they reacted to the promotion the same way or did one city have more engagement with the city than the other. \n",
    "\n",
    "Linear and regression modelling would also tell whether the cities follow the same circadian rhythms with the promotion in play. Perhaps it is possible that the promotion narrowed the periods of the cycles. This would still be in Ultimate's favour as it would create more engagement cycles.\n",
    "\n",
    "The recommendations to the city would depend on the answers. It could be that the promotion has no effect or a negative efect on the driver partners. In which case, the recommendation would be that the promotion was discontinued. It could be that the promotion recieved a stronger reception in one city than another in which case the recommendation would be to only continue the promotion and widen it to all driver partners within that city. If it Ultimate decides that offering reimbursements is not a long-term feasible solution, they may ask the city to lower its toll expectations."
   ]
  },
  {
   "cell_type": "markdown",
   "metadata": {},
   "source": [
    "## Part 3 - Predictive Modelling"
   ]
  },
  {
   "cell_type": "code",
   "execution_count": 12,
   "metadata": {},
   "outputs": [],
   "source": [
    "file = open('ultimate_data_challenge.json', 'r')\n",
    "retain_df = pd.DataFrame(json.load(file))\n",
    "file.close()"
   ]
  },
  {
   "cell_type": "code",
   "execution_count": 13,
   "metadata": {},
   "outputs": [
    {
     "data": {
      "text/html": [
       "<div>\n",
       "<style scoped>\n",
       "    .dataframe tbody tr th:only-of-type {\n",
       "        vertical-align: middle;\n",
       "    }\n",
       "\n",
       "    .dataframe tbody tr th {\n",
       "        vertical-align: top;\n",
       "    }\n",
       "\n",
       "    .dataframe thead th {\n",
       "        text-align: right;\n",
       "    }\n",
       "</style>\n",
       "<table border=\"1\" class=\"dataframe\">\n",
       "  <thead>\n",
       "    <tr style=\"text-align: right;\">\n",
       "      <th></th>\n",
       "      <th>0</th>\n",
       "      <th>1</th>\n",
       "      <th>2</th>\n",
       "      <th>3</th>\n",
       "      <th>4</th>\n",
       "    </tr>\n",
       "  </thead>\n",
       "  <tbody>\n",
       "    <tr>\n",
       "      <th>avg_dist</th>\n",
       "      <td>3.67</td>\n",
       "      <td>8.26</td>\n",
       "      <td>0.77</td>\n",
       "      <td>2.36</td>\n",
       "      <td>3.13</td>\n",
       "    </tr>\n",
       "    <tr>\n",
       "      <th>avg_rating_by_driver</th>\n",
       "      <td>5</td>\n",
       "      <td>5</td>\n",
       "      <td>5</td>\n",
       "      <td>4.9</td>\n",
       "      <td>4.9</td>\n",
       "    </tr>\n",
       "    <tr>\n",
       "      <th>avg_rating_of_driver</th>\n",
       "      <td>4.7</td>\n",
       "      <td>5</td>\n",
       "      <td>4.3</td>\n",
       "      <td>4.6</td>\n",
       "      <td>4.4</td>\n",
       "    </tr>\n",
       "    <tr>\n",
       "      <th>avg_surge</th>\n",
       "      <td>1.1</td>\n",
       "      <td>1</td>\n",
       "      <td>1</td>\n",
       "      <td>1.14</td>\n",
       "      <td>1.19</td>\n",
       "    </tr>\n",
       "    <tr>\n",
       "      <th>city</th>\n",
       "      <td>King's Landing</td>\n",
       "      <td>Astapor</td>\n",
       "      <td>Astapor</td>\n",
       "      <td>King's Landing</td>\n",
       "      <td>Winterfell</td>\n",
       "    </tr>\n",
       "    <tr>\n",
       "      <th>last_trip_date</th>\n",
       "      <td>2014-06-17</td>\n",
       "      <td>2014-05-05</td>\n",
       "      <td>2014-01-07</td>\n",
       "      <td>2014-06-29</td>\n",
       "      <td>2014-03-15</td>\n",
       "    </tr>\n",
       "    <tr>\n",
       "      <th>phone</th>\n",
       "      <td>iPhone</td>\n",
       "      <td>Android</td>\n",
       "      <td>iPhone</td>\n",
       "      <td>iPhone</td>\n",
       "      <td>Android</td>\n",
       "    </tr>\n",
       "    <tr>\n",
       "      <th>signup_date</th>\n",
       "      <td>2014-01-25</td>\n",
       "      <td>2014-01-29</td>\n",
       "      <td>2014-01-06</td>\n",
       "      <td>2014-01-10</td>\n",
       "      <td>2014-01-27</td>\n",
       "    </tr>\n",
       "    <tr>\n",
       "      <th>surge_pct</th>\n",
       "      <td>15.4</td>\n",
       "      <td>0</td>\n",
       "      <td>0</td>\n",
       "      <td>20</td>\n",
       "      <td>11.8</td>\n",
       "    </tr>\n",
       "    <tr>\n",
       "      <th>trips_in_first_30_days</th>\n",
       "      <td>4</td>\n",
       "      <td>0</td>\n",
       "      <td>3</td>\n",
       "      <td>9</td>\n",
       "      <td>14</td>\n",
       "    </tr>\n",
       "    <tr>\n",
       "      <th>ultimate_black_user</th>\n",
       "      <td>True</td>\n",
       "      <td>False</td>\n",
       "      <td>False</td>\n",
       "      <td>True</td>\n",
       "      <td>False</td>\n",
       "    </tr>\n",
       "    <tr>\n",
       "      <th>weekday_pct</th>\n",
       "      <td>46.2</td>\n",
       "      <td>50</td>\n",
       "      <td>100</td>\n",
       "      <td>80</td>\n",
       "      <td>82.4</td>\n",
       "    </tr>\n",
       "  </tbody>\n",
       "</table>\n",
       "</div>"
      ],
      "text/plain": [
       "                                     0           1           2  \\\n",
       "avg_dist                          3.67        8.26        0.77   \n",
       "avg_rating_by_driver                 5           5           5   \n",
       "avg_rating_of_driver               4.7           5         4.3   \n",
       "avg_surge                          1.1           1           1   \n",
       "city                    King's Landing     Astapor     Astapor   \n",
       "last_trip_date              2014-06-17  2014-05-05  2014-01-07   \n",
       "phone                           iPhone     Android      iPhone   \n",
       "signup_date                 2014-01-25  2014-01-29  2014-01-06   \n",
       "surge_pct                         15.4           0           0   \n",
       "trips_in_first_30_days               4           0           3   \n",
       "ultimate_black_user               True       False       False   \n",
       "weekday_pct                       46.2          50         100   \n",
       "\n",
       "                                     3           4  \n",
       "avg_dist                          2.36        3.13  \n",
       "avg_rating_by_driver               4.9         4.9  \n",
       "avg_rating_of_driver               4.6         4.4  \n",
       "avg_surge                         1.14        1.19  \n",
       "city                    King's Landing  Winterfell  \n",
       "last_trip_date              2014-06-29  2014-03-15  \n",
       "phone                           iPhone     Android  \n",
       "signup_date                 2014-01-10  2014-01-27  \n",
       "surge_pct                           20        11.8  \n",
       "trips_in_first_30_days               9          14  \n",
       "ultimate_black_user               True       False  \n",
       "weekday_pct                         80        82.4  "
      ]
     },
     "execution_count": 13,
     "metadata": {},
     "output_type": "execute_result"
    }
   ],
   "source": [
    "retain_df.head().T"
   ]
  },
  {
   "cell_type": "code",
   "execution_count": 14,
   "metadata": {},
   "outputs": [
    {
     "data": {
      "text/html": [
       "<div>\n",
       "<style scoped>\n",
       "    .dataframe tbody tr th:only-of-type {\n",
       "        vertical-align: middle;\n",
       "    }\n",
       "\n",
       "    .dataframe tbody tr th {\n",
       "        vertical-align: top;\n",
       "    }\n",
       "\n",
       "    .dataframe thead th {\n",
       "        text-align: right;\n",
       "    }\n",
       "</style>\n",
       "<table border=\"1\" class=\"dataframe\">\n",
       "  <thead>\n",
       "    <tr style=\"text-align: right;\">\n",
       "      <th></th>\n",
       "      <th>avg_dist</th>\n",
       "      <th>avg_rating_by_driver</th>\n",
       "      <th>avg_rating_of_driver</th>\n",
       "      <th>avg_surge</th>\n",
       "      <th>surge_pct</th>\n",
       "      <th>trips_in_first_30_days</th>\n",
       "      <th>weekday_pct</th>\n",
       "    </tr>\n",
       "  </thead>\n",
       "  <tbody>\n",
       "    <tr>\n",
       "      <th>count</th>\n",
       "      <td>50000.000000</td>\n",
       "      <td>49799.000000</td>\n",
       "      <td>41878.000000</td>\n",
       "      <td>50000.000000</td>\n",
       "      <td>50000.000000</td>\n",
       "      <td>50000.000000</td>\n",
       "      <td>50000.000000</td>\n",
       "    </tr>\n",
       "    <tr>\n",
       "      <th>mean</th>\n",
       "      <td>5.796827</td>\n",
       "      <td>4.778158</td>\n",
       "      <td>4.601559</td>\n",
       "      <td>1.074764</td>\n",
       "      <td>8.849536</td>\n",
       "      <td>2.278200</td>\n",
       "      <td>60.926084</td>\n",
       "    </tr>\n",
       "    <tr>\n",
       "      <th>std</th>\n",
       "      <td>5.707357</td>\n",
       "      <td>0.446652</td>\n",
       "      <td>0.617338</td>\n",
       "      <td>0.222336</td>\n",
       "      <td>19.958811</td>\n",
       "      <td>3.792684</td>\n",
       "      <td>37.081503</td>\n",
       "    </tr>\n",
       "    <tr>\n",
       "      <th>min</th>\n",
       "      <td>0.000000</td>\n",
       "      <td>1.000000</td>\n",
       "      <td>1.000000</td>\n",
       "      <td>1.000000</td>\n",
       "      <td>0.000000</td>\n",
       "      <td>0.000000</td>\n",
       "      <td>0.000000</td>\n",
       "    </tr>\n",
       "    <tr>\n",
       "      <th>25%</th>\n",
       "      <td>2.420000</td>\n",
       "      <td>4.700000</td>\n",
       "      <td>4.300000</td>\n",
       "      <td>1.000000</td>\n",
       "      <td>0.000000</td>\n",
       "      <td>0.000000</td>\n",
       "      <td>33.300000</td>\n",
       "    </tr>\n",
       "    <tr>\n",
       "      <th>50%</th>\n",
       "      <td>3.880000</td>\n",
       "      <td>5.000000</td>\n",
       "      <td>4.900000</td>\n",
       "      <td>1.000000</td>\n",
       "      <td>0.000000</td>\n",
       "      <td>1.000000</td>\n",
       "      <td>66.700000</td>\n",
       "    </tr>\n",
       "    <tr>\n",
       "      <th>75%</th>\n",
       "      <td>6.940000</td>\n",
       "      <td>5.000000</td>\n",
       "      <td>5.000000</td>\n",
       "      <td>1.050000</td>\n",
       "      <td>8.600000</td>\n",
       "      <td>3.000000</td>\n",
       "      <td>100.000000</td>\n",
       "    </tr>\n",
       "    <tr>\n",
       "      <th>max</th>\n",
       "      <td>160.960000</td>\n",
       "      <td>5.000000</td>\n",
       "      <td>5.000000</td>\n",
       "      <td>8.000000</td>\n",
       "      <td>100.000000</td>\n",
       "      <td>125.000000</td>\n",
       "      <td>100.000000</td>\n",
       "    </tr>\n",
       "  </tbody>\n",
       "</table>\n",
       "</div>"
      ],
      "text/plain": [
       "           avg_dist  avg_rating_by_driver  avg_rating_of_driver     avg_surge  \\\n",
       "count  50000.000000          49799.000000          41878.000000  50000.000000   \n",
       "mean       5.796827              4.778158              4.601559      1.074764   \n",
       "std        5.707357              0.446652              0.617338      0.222336   \n",
       "min        0.000000              1.000000              1.000000      1.000000   \n",
       "25%        2.420000              4.700000              4.300000      1.000000   \n",
       "50%        3.880000              5.000000              4.900000      1.000000   \n",
       "75%        6.940000              5.000000              5.000000      1.050000   \n",
       "max      160.960000              5.000000              5.000000      8.000000   \n",
       "\n",
       "          surge_pct  trips_in_first_30_days   weekday_pct  \n",
       "count  50000.000000            50000.000000  50000.000000  \n",
       "mean       8.849536                2.278200     60.926084  \n",
       "std       19.958811                3.792684     37.081503  \n",
       "min        0.000000                0.000000      0.000000  \n",
       "25%        0.000000                0.000000     33.300000  \n",
       "50%        0.000000                1.000000     66.700000  \n",
       "75%        8.600000                3.000000    100.000000  \n",
       "max      100.000000              125.000000    100.000000  "
      ]
     },
     "execution_count": 14,
     "metadata": {},
     "output_type": "execute_result"
    }
   ],
   "source": [
    "retain_df.describe()"
   ]
  },
  {
   "cell_type": "code",
   "execution_count": 15,
   "metadata": {},
   "outputs": [
    {
     "name": "stdout",
     "output_type": "stream",
     "text": [
      "<class 'pandas.core.frame.DataFrame'>\n",
      "RangeIndex: 50000 entries, 0 to 49999\n",
      "Data columns (total 12 columns):\n",
      "avg_dist                  50000 non-null float64\n",
      "avg_rating_by_driver      49799 non-null float64\n",
      "avg_rating_of_driver      41878 non-null float64\n",
      "avg_surge                 50000 non-null float64\n",
      "city                      50000 non-null object\n",
      "last_trip_date            50000 non-null object\n",
      "phone                     49604 non-null object\n",
      "signup_date               50000 non-null object\n",
      "surge_pct                 50000 non-null float64\n",
      "trips_in_first_30_days    50000 non-null int64\n",
      "ultimate_black_user       50000 non-null bool\n",
      "weekday_pct               50000 non-null float64\n",
      "dtypes: bool(1), float64(6), int64(1), object(4)\n",
      "memory usage: 4.2+ MB\n"
     ]
    }
   ],
   "source": [
    "retain_df.info()"
   ]
  },
  {
   "cell_type": "markdown",
   "metadata": {},
   "source": [
    "There are missing values in avg_rating_by_driver, avg_rating_of_driver, and phone. Since none of those have to do with dates, I will answer the first question of Part 3 of the challenge first before dealing with the missing data/"
   ]
  },
  {
   "cell_type": "code",
   "execution_count": 16,
   "metadata": {},
   "outputs": [],
   "source": [
    "retain_df['last_trip_date'] = pd.to_datetime(retain_df['last_trip_date'])\n",
    "retain_df['signup_date'] = pd.to_datetime(retain_df['signup_date'])"
   ]
  },
  {
   "cell_type": "code",
   "execution_count": 17,
   "metadata": {},
   "outputs": [
    {
     "data": {
      "text/plain": [
       "True     31196\n",
       "False    18804\n",
       "Name: active_ind, dtype: int64"
      ]
     },
     "execution_count": 17,
     "metadata": {},
     "output_type": "execute_result"
    }
   ],
   "source": [
    "retain_df['active_ind'] = ((retain_df['last_trip_date']) < (max(retain_df['last_trip_date'])) - pd.Timedelta(\"30 days\")) \n",
    "retain_df.active_ind.value_counts()"
   ]
  },
  {
   "cell_type": "code",
   "execution_count": 19,
   "metadata": {},
   "outputs": [
    {
     "data": {
      "text/plain": [
       "0.37608"
      ]
     },
     "execution_count": 19,
     "metadata": {},
     "output_type": "execute_result"
    }
   ],
   "source": [
    "retain_df.active_ind.value_counts()[0]/len(retain_df.active_ind)"
   ]
  },
  {
   "cell_type": "markdown",
   "metadata": {},
   "source": [
    "18804/31196 users were retained. 37.6%.\n",
    "\n",
    "I will see if I can determine which city the most retained users came from and how being an ultimate_black_user factors into the decision to keep using the service."
   ]
  },
  {
   "cell_type": "code",
   "execution_count": 20,
   "metadata": {},
   "outputs": [
    {
     "data": {
      "text/plain": [
       "<matplotlib.axes._subplots.AxesSubplot at 0x15385986a20>"
      ]
     },
     "execution_count": 20,
     "metadata": {},
     "output_type": "execute_result"
    },
    {
     "data": {
      "image/png": "[encoded data removed]",
      "text/plain": [
       "<matplotlib.figure.Figure at 0x153859864e0>"
      ]
     },
     "metadata": {},
     "output_type": "display_data"
    }
   ],
   "source": [
    "sns.countplot(x='ultimate_black_user', data=retain_df, hue='active_ind', palette=\"Set2\")"
   ]
  },
  {
   "cell_type": "markdown",
   "metadata": {},
   "source": [
    "It seems that more retained users came from regular accounts. Being an Ultimate Black User (UBU) did not influence the decision to stay on as a user. A lot of users who were not UBUs decided to stay."
   ]
  },
  {
   "cell_type": "code",
   "execution_count": 21,
   "metadata": {},
   "outputs": [
    {
     "data": {
      "text/plain": [
       "<matplotlib.axes._subplots.AxesSubplot at 0x15385b76fd0>"
      ]
     },
     "execution_count": 21,
     "metadata": {},
     "output_type": "execute_result"
    },
    {
     "data": {
      "image/png": "[encoded data removed]",
      "text/plain": [
       "<matplotlib.figure.Figure at 0x15384a90978>"
      ]
     },
     "metadata": {},
     "output_type": "display_data"
    }
   ],
   "source": [
    "sns.countplot(x='city', data=retain_df, hue='active_ind', palette=\"Set2\")"
   ]
  },
  {
   "cell_type": "markdown",
   "metadata": {},
   "source": [
    "Many users from King's Landing did not decide to stay on with the program. More than twice the number of users who decided not to stay on did stay on in Astapor City. Winterfell had the greatest amount of individual retained users, although Astapor City has the greatest rate of retained users.\n",
    "\n",
    "The second question of the third part is to build a predictive model. We cannot do that with the null values we mentioned before. There are missing values in avg_rating_by_driver, avg_rating_of_driver, and phone. I can impute the averages for the ratings. This would not bias my mean parameter estimate but it will make my standard deviation estimate inaccurate. Since I do not plan on needing an accurate standard deviation for the analysis, I will impute the averages taken from cell 111.\n",
    "\n",
    "The missing values in the phone category are imputed with 'None' as it is possible that the user left the phone descrpiptor empty because they did not have one. They could be using email or the app on an iPad or tablet instead."
   ]
  },
  {
   "cell_type": "code",
   "execution_count": 22,
   "metadata": {},
   "outputs": [],
   "source": [
    "retain_df['avg_rating_by_driver'] = retain_df['avg_rating_by_driver'].fillna(4.8)\n",
    "retain_df['avg_rating_of_driver'] = retain_df['avg_rating_of_driver'].fillna(4.6)\n",
    "retain_df['phone'] = retain_df['phone'].fillna('None')"
   ]
  },
  {
   "cell_type": "code",
   "execution_count": 23,
   "metadata": {},
   "outputs": [
    {
     "name": "stdout",
     "output_type": "stream",
     "text": [
      "<class 'pandas.core.frame.DataFrame'>\n",
      "RangeIndex: 50000 entries, 0 to 49999\n",
      "Data columns (total 13 columns):\n",
      "avg_dist                  50000 non-null float64\n",
      "avg_rating_by_driver      50000 non-null float64\n",
      "avg_rating_of_driver      50000 non-null float64\n",
      "avg_surge                 50000 non-null float64\n",
      "city                      50000 non-null object\n",
      "last_trip_date            50000 non-null datetime64[ns]\n",
      "phone                     50000 non-null object\n",
      "signup_date               50000 non-null datetime64[ns]\n",
      "surge_pct                 50000 non-null float64\n",
      "trips_in_first_30_days    50000 non-null int64\n",
      "ultimate_black_user       50000 non-null bool\n",
      "weekday_pct               50000 non-null float64\n",
      "active_ind                50000 non-null bool\n",
      "dtypes: bool(2), datetime64[ns](2), float64(6), int64(1), object(2)\n",
      "memory usage: 4.3+ MB\n"
     ]
    }
   ],
   "source": [
    "retain_df.info()"
   ]
  },
  {
   "cell_type": "code",
   "execution_count": 24,
   "metadata": {},
   "outputs": [],
   "source": [
    "new_rdf = retain_df.drop('signup_date', axis=1)"
   ]
  },
  {
   "cell_type": "code",
   "execution_count": 25,
   "metadata": {},
   "outputs": [],
   "source": [
    "new_rdf = new_rdf.drop('last_trip_date', axis=1)"
   ]
  },
  {
   "cell_type": "code",
   "execution_count": 26,
   "metadata": {},
   "outputs": [],
   "source": [
    "new_rdf = pd.get_dummies(new_rdf, prefix='is')"
   ]
  },
  {
   "cell_type": "code",
   "execution_count": 27,
   "metadata": {},
   "outputs": [],
   "source": [
    "X, y = new_rdf.drop(['active_ind', 'avg_surge'], axis=1), new_rdf['active_ind']"
   ]
  },
  {
   "cell_type": "code",
   "execution_count": 28,
   "metadata": {},
   "outputs": [],
   "source": [
    "from sklearn.model_selection import train_test_split\n",
    "\n",
    "train_X, test_X, train_y, test_y = train_test_split(X, y, train_size=0.85, test_size=0.15, stratify=y)"
   ]
  },
  {
   "cell_type": "code",
   "execution_count": 29,
   "metadata": {},
   "outputs": [
    {
     "name": "stdout",
     "output_type": "stream",
     "text": [
      "      Iter       Train Loss   Remaining Time \n",
      "         1           1.2797           18.37s\n",
      "         2           1.2435           12.80s\n",
      "         3           1.2118           10.59s\n",
      "         4           1.1840            9.37s\n",
      "         5           1.1619            8.90s\n",
      "         6           1.1415            8.35s\n",
      "         7           1.1231            7.97s\n",
      "         8           1.1076            7.68s\n",
      "         9           1.0881            7.47s\n",
      "        10           1.0719            7.28s\n",
      "        20           0.9927            6.24s\n",
      "        30           0.9578            5.75s\n",
      "        40           0.9394            5.34s\n",
      "        50           0.9280            4.98s\n",
      "        60           0.9211            4.69s\n",
      "        70           0.9163            4.31s\n",
      "        80           0.9122            3.93s\n",
      "        90           0.9082            3.60s\n",
      "       100           0.9048            3.25s\n",
      "       200           0.8864            0.00s\n"
     ]
    },
    {
     "data": {
      "text/plain": [
       "0.7794666666666666"
      ]
     },
     "execution_count": 29,
     "metadata": {},
     "output_type": "execute_result"
    }
   ],
   "source": [
    "from sklearn.ensemble import GradientBoostingClassifier\n",
    "classifier = GradientBoostingClassifier(verbose=True, n_estimators=200)\n",
    "classifier.fit(train_X, train_y)\n",
    "classifier.score(test_X, test_y)"
   ]
  },
  {
   "cell_type": "code",
   "execution_count": 30,
   "metadata": {},
   "outputs": [
    {
     "data": {
      "text/plain": [
       "<matplotlib.axes._subplots.AxesSubplot at 0x1538522dfd0>"
      ]
     },
     "execution_count": 30,
     "metadata": {},
     "output_type": "execute_result"
    },
    {
     "data": {
      "image/png": "[encoded data removed]",
      "text/plain": [
       "<matplotlib.figure.Figure at 0x15385050be0>"
      ]
     },
     "metadata": {},
     "output_type": "display_data"
    }
   ],
   "source": [
    "plt.figure(figsize=(6,10))\n",
    "sns.barplot(y=X.columns, x=classifier.feature_importances_)"
   ]
  },
  {
   "cell_type": "markdown",
   "metadata": {},
   "source": [
    "I chose a Gradient Booster to be the predictor as to whether future users will be retained. It is expressing 77.9% accuracy which I am satisfied with. A RandomForestClassifier and Regressor was attempted but the parameters could not meet the data and the attempt went unsuccessfully.\n",
    "\n",
    "As shown in the feature importance above, the percent of a user's trips occuring during the weekday feature is the heaviest category in predicting retention of users and the average distance of the trip is the second most significant feature in predicting retention.\n",
    "\n",
    "My recommendations would be to offer promotions to reward users who make trips using the service frequently during the weekdays and another promotion, not dissimilar, to reward users who travel a certain threshold to encourage use of the service. For example, the service Presto in the Greater Toronto Area gave discounted trips to users who made more than 45 trips a month. Long distance trips were also discounted if more than one method of transportation was needed for the user to arrive at their destination.\n",
    "\n",
    "Another recommendation would be to increase operations in Astapor City as they have a high rate of conversion. See if what is unique about Astapor City can be replicated in the other cities.\n",
    "\n",
    "That is the end of my submission and response to the Ultimate Technologies Inc. take-home challenge."
   ]
  },
  {
   "cell_type": "code",
   "execution_count": null,
   "metadata": {},
   "outputs": [],
   "source": []
  }
 ],
 "metadata": {
  "kernelspec": {
   "display_name": "Python 3",
   "language": "python",
   "name": "python3"
  },
  "language_info": {
   "codemirror_mode": {
    "name": "ipython",
    "version": 3
   },
   "file_extension": ".py",
   "mimetype": "text/x-python",
   "name": "python",
   "nbconvert_exporter": "python",
   "pygments_lexer": "ipython3",
   "version": "3.6.4"
  }
 },
 "nbformat": 4,
 "nbformat_minor": 2
}
